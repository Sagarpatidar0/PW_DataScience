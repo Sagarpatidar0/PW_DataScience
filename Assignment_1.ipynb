{
 "cells": [
  {
   "cell_type": "markdown",
   "id": "afe54179-79f3-4b80-8312-ac7f9d3cc92a",
   "metadata": {},
   "source": [
    "Q1. Create one variable containing following type of data:\n",
    "(i) string\n",
    "(ii) list\n",
    "(iii) float\n",
    "(iv) tuple"
   ]
  },
  {
   "cell_type": "code",
   "execution_count": 1,
   "id": "1f9bb9a3-46e8-49a6-b661-81972f2342da",
   "metadata": {},
   "outputs": [],
   "source": [
    "l = [\"String\",[1,2,4,3],2.4,(2,4,6)]"
   ]
  },
  {
   "cell_type": "code",
   "execution_count": 2,
   "id": "6ff3f732-1c4d-485a-8800-e9598495397b",
   "metadata": {},
   "outputs": [
    {
     "name": "stdout",
     "output_type": "stream",
     "text": [
      "<class 'str'>\n",
      "<class 'list'>\n",
      "<class 'float'>\n",
      "<class 'tuple'>\n"
     ]
    }
   ],
   "source": [
    "for x in l:\n",
    "    print(type(x))"
   ]
  },
  {
   "cell_type": "markdown",
   "id": "647851c5-9558-48f6-863d-9b621a29d9e4",
   "metadata": {},
   "source": [
    "Q2. Given are some following variables containing data:\n",
    "\n",
    "(i) var1 = ‘ ‘\n",
    "\n",
    "(ii) var2 = ‘[ DS , ML , Python]’\n",
    "\n",
    "(iii) var3 = [ ‘DS’ , ’ML’ , ‘Python’ ]\n",
    "\n",
    "(iv) var4 = 1.\n",
    "\n",
    "What will be the data type of the above given variable."
   ]
  },
  {
   "cell_type": "code",
   "execution_count": 3,
   "id": "975d3ede-a311-495e-a145-5e923f6db628",
   "metadata": {},
   "outputs": [
    {
     "name": "stdout",
     "output_type": "stream",
     "text": [
      "<class 'str'>\n",
      "<class 'str'>\n",
      "<class 'list'>\n",
      "<class 'int'>\n"
     ]
    }
   ],
   "source": [
    "var1 = \"\"\n",
    "var2 = \"[DS, ML, Python]\"\n",
    "var3 = [ 'DS' , \"ML\" , 'Python' ]\n",
    "var4 = 1\n",
    "print(type(var1))\n",
    "print(type(var2))\n",
    "print(type(var3))\n",
    "print(type(var4))"
   ]
  },
  {
   "cell_type": "markdown",
   "id": "5808c0ef-87b5-424f-9a8e-cc946bc78c6f",
   "metadata": {},
   "source": [
    "Q3. Explain the use of the following operators using an example:\n",
    "\n",
    "(i) / \n",
    "(ii) % \n",
    "(iii) // \n",
    "(iv) ** "
   ]
  },
  {
   "cell_type": "code",
   "execution_count": 4,
   "id": "711494f2-aa65-49d3-9a38-4875d34c6dbd",
   "metadata": {},
   "outputs": [
    {
     "name": "stdout",
     "output_type": "stream",
     "text": [
      "a/b: 2.0\n",
      "a%b: 0\n",
      "a//b(floor division): 2\n",
      "a**b(10^5): 100000\n"
     ]
    }
   ],
   "source": [
    "a = 10\n",
    "b = 5\n",
    "print(\"a/b:\",a/b)\n",
    "print(\"a%b:\",a%b)\n",
    "print(\"a//b(floor division):\",a//b)\n",
    "print(\"a**b(10^5):\",a**b)"
   ]
  },
  {
   "cell_type": "markdown",
   "id": "722daa57-4b32-42b3-9c0d-ec7b8120717e",
   "metadata": {},
   "source": [
    "Q4. Create a list of length 10 of your choice containing multiple types of data. Using for loop print the\n",
    "element and its data type."
   ]
  },
  {
   "cell_type": "code",
   "execution_count": 5,
   "id": "7688a15c-cf18-4167-b842-05d2f2410c69",
   "metadata": {},
   "outputs": [
    {
     "name": "stdout",
     "output_type": "stream",
     "text": [
      "12\n",
      "<class 'int'>\n",
      "2\n",
      "<class 'int'>\n",
      "3\n",
      "<class 'int'>\n",
      "4\n",
      "<class 'int'>\n",
      "data\n",
      "<class 'str'>\n",
      "3.4\n",
      "<class 'float'>\n",
      "(5+4j)\n",
      "<class 'complex'>\n",
      "True\n",
      "<class 'bool'>\n",
      "{1, 2, 3}\n",
      "<class 'set'>\n"
     ]
    }
   ],
   "source": [
    "list = [12,2,3,4,\"data\",3.4,5+4j,True,{1,2,3}]\n",
    "for i in list:\n",
    "    print(i)\n",
    "    print(type(i))"
   ]
  },
  {
   "cell_type": "markdown",
   "id": "db5f8169-8616-4116-9ccb-1fbcba5afab0",
   "metadata": {},
   "source": [
    "Q5. Using a while loop, verify if the number A is purely divisible by number B and if so then how many\n",
    "times it can be divisible."
   ]
  },
  {
   "cell_type": "code",
   "execution_count": 8,
   "id": "9fdefb95-47cd-4cdf-988e-8193a897f516",
   "metadata": {},
   "outputs": [
    {
     "name": "stdout",
     "output_type": "stream",
     "text": [
      "20 is purely divisible by number 4. 1 times\n"
     ]
    }
   ],
   "source": [
    "A = 20\n",
    "B = 4\n",
    "temp = A\n",
    "count = 0\n",
    "while A >= B:\n",
    "    if A%B==0:\n",
    "        count+=1\n",
    "    A /= B\n",
    "if count>0:\n",
    "    print(f\"{temp} is purely divisible by number {B}. {count} times\")"
   ]
  },
  {
   "cell_type": "markdown",
   "id": "c090f377-8db9-4392-9ab0-a35b20353158",
   "metadata": {},
   "source": [
    "Q6. Create a list containing 25 int type data. Using for loop and if-else condition print if the element is\n",
    "divisible by 3 or not."
   ]
  },
  {
   "cell_type": "code",
   "execution_count": 2,
   "id": "e6abbdc0-a206-4dd2-b4aa-8f28671c7893",
   "metadata": {},
   "outputs": [
    {
     "name": "stdout",
     "output_type": "stream",
     "text": [
      "0 is divisible by 3\n",
      "1 is not divisible by 3\n",
      "2 is not divisible by 3\n",
      "3 is divisible by 3\n",
      "4 is not divisible by 3\n",
      "5 is not divisible by 3\n",
      "6 is divisible by 3\n",
      "7 is not divisible by 3\n",
      "8 is not divisible by 3\n",
      "9 is divisible by 3\n",
      "10 is not divisible by 3\n",
      "11 is not divisible by 3\n",
      "12 is divisible by 3\n",
      "13 is not divisible by 3\n",
      "14 is not divisible by 3\n",
      "15 is divisible by 3\n",
      "16 is not divisible by 3\n",
      "17 is not divisible by 3\n",
      "18 is divisible by 3\n",
      "19 is not divisible by 3\n",
      "20 is not divisible by 3\n",
      "21 is divisible by 3\n",
      "22 is not divisible by 3\n",
      "23 is not divisible by 3\n",
      "24 is divisible by 3\n"
     ]
    }
   ],
   "source": [
    "l= [_ for _ in range(25)]    \n",
    "for i in l :\n",
    "    if i%3 == 0 :\n",
    "        print(i,\"is divisible by 3\")\n",
    "    else:\n",
    "        print(i,\"is not divisible by 3\")"
   ]
  },
  {
   "cell_type": "markdown",
   "id": "e3e72928-74e6-4d36-abe9-0ed09ae9f59c",
   "metadata": {},
   "source": [
    " Q7. What do you understand about mutable and immutable data types? Give examples for both showing\n",
    " this property."
   ]
  },
  {
   "cell_type": "code",
   "execution_count": 1,
   "id": "01f969fb-1c57-4896-8c28-3cf95232d680",
   "metadata": {},
   "outputs": [],
   "source": [
    "# Mutable datatype :- Mutable data types are those whose values can be changed after they are created.\n",
    "# Example of Mutable datatypes are :- List, Dictionarie"
   ]
  },
  {
   "cell_type": "code",
   "execution_count": 3,
   "id": "09fd44c9-18da-4e1b-924f-7277455cb846",
   "metadata": {},
   "outputs": [
    {
     "name": "stdout",
     "output_type": "stream",
     "text": [
      "[1, 5, 3, 4]\n"
     ]
    }
   ],
   "source": [
    "list = [1, 2, 3]\n",
    "list.append(4)  \n",
    "list[1] = 5\n",
    "print(list)"
   ]
  },
  {
   "cell_type": "code",
   "execution_count": 2,
   "id": "34a53b89-8b76-44f8-818f-c0c17c11d168",
   "metadata": {},
   "outputs": [],
   "source": [
    "# Immutable Data Types:- Immutable data types are those whose values cannot be changed after they are created. \n",
    "# Example of Immutable datatypes are :- String, Tuple"
   ]
  },
  {
   "cell_type": "code",
   "execution_count": 4,
   "id": "ed0a6148-7176-47b8-86cb-5f0558c3a15f",
   "metadata": {},
   "outputs": [
    {
     "ename": "TypeError",
     "evalue": "'str' object does not support item assignment",
     "output_type": "error",
     "traceback": [
      "\u001b[0;31m---------------------------------------------------------------------------\u001b[0m",
      "\u001b[0;31mTypeError\u001b[0m                                 Traceback (most recent call last)",
      "Cell \u001b[0;32mIn[4], line 2\u001b[0m\n\u001b[1;32m      1\u001b[0m string \u001b[38;5;241m=\u001b[39m \u001b[38;5;124m\"\u001b[39m\u001b[38;5;124mHello World\u001b[39m\u001b[38;5;124m\"\u001b[39m\n\u001b[0;32m----> 2\u001b[0m \u001b[43mstring\u001b[49m\u001b[43m[\u001b[49m\u001b[38;5;241;43m4\u001b[39;49m\u001b[43m]\u001b[49m \u001b[38;5;241m=\u001b[39m \u001b[38;5;124m'\u001b[39m\u001b[38;5;124mO\u001b[39m\u001b[38;5;124m'\u001b[39m\n",
      "\u001b[0;31mTypeError\u001b[0m: 'str' object does not support item assignment"
     ]
    }
   ],
   "source": [
    "string = \"Hello World\"\n",
    "string[4] = 'O'\n",
    "# Giving Error because string is Immutable"
   ]
  },
  {
   "cell_type": "code",
   "execution_count": null,
   "id": "151f304e-3f6e-4ce1-9367-0fefb21411b6",
   "metadata": {},
   "outputs": [],
   "source": []
  }
 ],
 "metadata": {
  "kernelspec": {
   "display_name": "Python 3 (ipykernel)",
   "language": "python",
   "name": "python3"
  },
  "language_info": {
   "codemirror_mode": {
    "name": "ipython",
    "version": 3
   },
   "file_extension": ".py",
   "mimetype": "text/x-python",
   "name": "python",
   "nbconvert_exporter": "python",
   "pygments_lexer": "ipython3",
   "version": "3.10.8"
  }
 },
 "nbformat": 4,
 "nbformat_minor": 5
}
