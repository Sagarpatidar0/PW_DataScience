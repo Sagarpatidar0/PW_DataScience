{
 "cells": [
  {
   "cell_type": "markdown",
   "id": "a651dd40-5b01-4a70-bf21-b4f83fee3a14",
   "metadata": {},
   "source": [
    "Q1. How do you comment code in Python? What are the different types of comments?"
   ]
  },
  {
   "cell_type": "code",
   "execution_count": 1,
   "id": "ff8e0bfa-492a-41d8-9012-8e05a52fe036",
   "metadata": {},
   "outputs": [
    {
     "data": {
      "text/plain": [
       "' \\n This is multiline comment \\n in which multiple lines are comment \\n'"
      ]
     },
     "execution_count": 1,
     "metadata": {},
     "output_type": "execute_result"
    }
   ],
   "source": [
    "# there are two type by which We can comment code in python \n",
    "# First one is single-line comment using # in starting of each line \n",
    "\"\"\" \n",
    " This is multiline comment \n",
    " in which multiple lines are comment \n",
    "\"\"\"\n"
   ]
  },
  {
   "cell_type": "markdown",
   "id": "0851c8fc-d3ca-434f-ba9b-34cd85a15dbe",
   "metadata": {},
   "source": [
    "Q2. What are variables in Python? How do you declare and assign values to variables?"
   ]
  },
  {
   "cell_type": "code",
   "execution_count": 2,
   "id": "a7d4d51b-5636-4360-a1c7-8ffe71668c8d",
   "metadata": {},
   "outputs": [],
   "source": [
    "# Variables are memory location where different type of can be store and each variable have its unique name,\n",
    "# by which data in variable can by accessed. \n",
    "# Examples of how variables are declare and assign values in python are given below\n",
    "\n",
    "A = 10\n",
    "B = \"PW_SKILLs\"\n",
    "C = True\n",
    "D = 10.0"
   ]
  },
  {
   "cell_type": "markdown",
   "id": "d29758be-3b49-441c-b410-40430b1c0186",
   "metadata": {},
   "source": [
    "Q3. How do you convert one data type to another in Python?"
   ]
  },
  {
   "cell_type": "code",
   "execution_count": 3,
   "id": "0413fb87-8f14-4c82-abc1-d638f103cbd3",
   "metadata": {},
   "outputs": [
    {
     "name": "stdout",
     "output_type": "stream",
     "text": [
      "10\n",
      "10\n"
     ]
    }
   ],
   "source": [
    "A = \"10\"\n",
    "B = int(A)\n",
    "\n",
    "print(A)\n",
    "print(B)\n"
   ]
  },
  {
   "cell_type": "markdown",
   "id": "c70e5dc5-9e01-4305-be99-2137d84a5f02",
   "metadata": {},
   "source": [
    "Q4. How do you write and execute a Python script from the command line?"
   ]
  },
  {
   "cell_type": "code",
   "execution_count": 4,
   "id": "b5b072ba-b30b-48dc-9174-6a137cf2258e",
   "metadata": {},
   "outputs": [],
   "source": [
    "# python\n",
    "# >>> A=10\n",
    "# >>> print(A)\n",
    "# 10"
   ]
  },
  {
   "cell_type": "markdown",
   "id": "95439afd-f5ad-4c92-8ea7-08deda765bf8",
   "metadata": {},
   "source": [
    "Q5. Given a list my_list = [1, 2, 3, 4, 5], write the code to slice the list and obtain the sub-list [2, 3]."
   ]
  },
  {
   "cell_type": "code",
   "execution_count": 5,
   "id": "79105b5e-e1f0-4a62-ba1a-95a717d47b03",
   "metadata": {},
   "outputs": [
    {
     "data": {
      "text/plain": [
       "[2, 3]"
      ]
     },
     "execution_count": 5,
     "metadata": {},
     "output_type": "execute_result"
    }
   ],
   "source": [
    "my_list = [1,2,3,4,5]\n",
    "my_list[1:3]"
   ]
  },
  {
   "cell_type": "markdown",
   "id": "420214ca-178c-46f9-8b3c-e08acc437426",
   "metadata": {},
   "source": [
    "Q6. What is a complex number in mathematics, and how is it represented in Python?"
   ]
  },
  {
   "cell_type": "code",
   "execution_count": 6,
   "id": "1ffd264f-3c9d-4ff7-ba9a-0a7495958ae4",
   "metadata": {},
   "outputs": [
    {
     "data": {
      "text/plain": [
       "(10+5j)"
      ]
     },
     "execution_count": 6,
     "metadata": {},
     "output_type": "execute_result"
    }
   ],
   "source": [
    "# Complex number is a type number which have 2 part, real and imaginary. it is represented bt a+bi \n",
    "# In python i is replased with j (a+bj)\n",
    "\n",
    "complex_num = 10+5j\n",
    "complex_num"
   ]
  },
  {
   "cell_type": "markdown",
   "id": "05c6c244-6c7b-4fa4-ab8c-c52bd30b2381",
   "metadata": {},
   "source": [
    "Q7. What is the correct way to declare a variable named age and assign the value 25 to it?"
   ]
  },
  {
   "cell_type": "code",
   "execution_count": 7,
   "id": "ef2a19a9-c750-4ea8-85ac-d0c8578f6529",
   "metadata": {},
   "outputs": [],
   "source": [
    "age = 25"
   ]
  },
  {
   "cell_type": "markdown",
   "id": "be06c965-6cf6-4557-aa28-76b9f8f6dc45",
   "metadata": {},
   "source": [
    "Q8. Declare a variable named price and assign the value 9.99 to it. What data type does this variable\n",
    "belong to?"
   ]
  },
  {
   "cell_type": "code",
   "execution_count": 8,
   "id": "c46b1dcd-640c-4e26-86ba-273610638393",
   "metadata": {},
   "outputs": [
    {
     "name": "stdout",
     "output_type": "stream",
     "text": [
      "Date type of price is :- <class 'float'>\n"
     ]
    }
   ],
   "source": [
    "price = 9.99\n",
    "print(\"Date type of price is :-\",type(price))"
   ]
  },
  {
   "cell_type": "markdown",
   "id": "da7e599a-6ed6-40b4-bb7e-ca7259bcab89",
   "metadata": {},
   "source": [
    "Q9. Create a variable named name and assign your full name to it as a string. How would you print the\n",
    "value of this variable?"
   ]
  },
  {
   "cell_type": "code",
   "execution_count": 9,
   "id": "75b0928a-5f76-41a9-97bf-4b6996061708",
   "metadata": {},
   "outputs": [
    {
     "name": "stdout",
     "output_type": "stream",
     "text": [
      "Sagar Patidar\n"
     ]
    }
   ],
   "source": [
    "name = \"Sagar Patidar\"\n",
    "print(name)"
   ]
  },
  {
   "cell_type": "markdown",
   "id": "5f8ed1ab-577c-46ab-82ff-ca5d2956161b",
   "metadata": {},
   "source": [
    "Q10. Given the string \"Hello, World!\", extract the substring \"World\"."
   ]
  },
  {
   "cell_type": "code",
   "execution_count": 10,
   "id": "c40c5d95-bc84-4d98-8ed4-0eac82b85448",
   "metadata": {},
   "outputs": [
    {
     "data": {
      "text/plain": [
       "'World'"
      ]
     },
     "execution_count": 10,
     "metadata": {},
     "output_type": "execute_result"
    }
   ],
   "source": [
    "str = \"Hello, World!\"\n",
    "str[-6:-1]"
   ]
  },
  {
   "cell_type": "markdown",
   "id": "0f007ff3-fb47-4bea-a2df-7cd84e13652e",
   "metadata": {},
   "source": [
    "Q11. Create a variable named \"is_student\" and assign it a boolean value indicating whether you are\n",
    "currently a student or not."
   ]
  },
  {
   "cell_type": "code",
   "execution_count": 11,
   "id": "0eed4fdf-eb48-4623-befd-533ee6d259f9",
   "metadata": {},
   "outputs": [
    {
     "data": {
      "text/plain": [
       "True"
      ]
     },
     "execution_count": 11,
     "metadata": {},
     "output_type": "execute_result"
    }
   ],
   "source": [
    "is_student = True\n",
    "is_student"
   ]
  },
  {
   "cell_type": "code",
   "execution_count": null,
   "id": "b7fb95d2-df01-4761-b6d8-c76298bba28b",
   "metadata": {},
   "outputs": [],
   "source": []
  }
 ],
 "metadata": {
  "kernelspec": {
   "display_name": "Python 3 (ipykernel)",
   "language": "python",
   "name": "python3"
  },
  "language_info": {
   "codemirror_mode": {
    "name": "ipython",
    "version": 3
   },
   "file_extension": ".py",
   "mimetype": "text/x-python",
   "name": "python",
   "nbconvert_exporter": "python",
   "pygments_lexer": "ipython3",
   "version": "3.10.8"
  }
 },
 "nbformat": 4,
 "nbformat_minor": 5
}
