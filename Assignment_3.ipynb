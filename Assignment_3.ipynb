{
 "cells": [
  {
   "cell_type": "markdown",
   "id": "ba17e667-d33b-4e2c-aa1f-a973d0ed1e5f",
   "metadata": {},
   "source": [
    "Q1. Which keyword is used to create a function? Create a function to return a list of odd numbers in the \n",
    "range of 1 to 25.\n"
   ]
  },
  {
   "cell_type": "markdown",
   "id": "5ab6512c-82f2-4145-887f-78d5d4bfba4d",
   "metadata": {},
   "source": [
    "Ans 1. def keyword is used to create a function. "
   ]
  },
  {
   "cell_type": "code",
   "execution_count": 1,
   "id": "751a30b3-37a9-448b-9372-3eab892f1e02",
   "metadata": {},
   "outputs": [],
   "source": [
    "def odd() :\n",
    "    l = []\n",
    "    for i in range (25):\n",
    "        if i%2 != 0:\n",
    "            l.append(i) \n",
    "    return l"
   ]
  },
  {
   "cell_type": "code",
   "execution_count": 2,
   "id": "d67fe71d-269f-454b-ae98-95f08e00c90e",
   "metadata": {},
   "outputs": [
    {
     "data": {
      "text/plain": [
       "[1, 3, 5, 7, 9, 11, 13, 15, 17, 19, 21, 23]"
      ]
     },
     "execution_count": 2,
     "metadata": {},
     "output_type": "execute_result"
    }
   ],
   "source": [
    "odd() "
   ]
  },
  {
   "cell_type": "code",
   "execution_count": null,
   "id": "62bb87db-7f1b-439e-a9a8-a9dd9debe3a5",
   "metadata": {},
   "outputs": [],
   "source": []
  },
  {
   "cell_type": "markdown",
   "id": "06d15738-6b4f-41a2-8264-5bb4a46fc8c7",
   "metadata": {},
   "source": [
    "Q2. Why *args and **kwargs is used in some functions? Create a function each for *args and **kwargs \n",
    "to demonstrate their use."
   ]
  },
  {
   "cell_type": "markdown",
   "id": "fbe12adb-f46f-48e9-b11b-2db2c33df5c0",
   "metadata": {},
   "source": [
    "Ans 2. Using *args and **kwargs can make your functions more flexible and adaptable, as they allow you to create functions that can accept different numbers of arguments without explicitly defining them in advance. *args is used for passing values in tuple and **kwargs takes any number of key value pair, and store them in Dictionary"
   ]
  },
  {
   "cell_type": "code",
   "execution_count": 10,
   "id": "ccc3ebf4-ef08-404b-9878-6db4ebe4825f",
   "metadata": {},
   "outputs": [],
   "source": [
    "def test(*args, **kwargs):\n",
    "    print(\"args :\",args)\n",
    "    print(\"kwargs :\", kwargs)"
   ]
  },
  {
   "cell_type": "code",
   "execution_count": 11,
   "id": "baf22f71-b79b-47ae-a437-060cd92fdadd",
   "metadata": {},
   "outputs": [
    {
     "name": "stdout",
     "output_type": "stream",
     "text": [
      "args : (1, 2, 3)\n",
      "kwargs : {'a': 23, 'name': 'tom'}\n"
     ]
    }
   ],
   "source": [
    "test(1,2,3,a = 23, name = \"tom\")"
   ]
  },
  {
   "cell_type": "code",
   "execution_count": null,
   "id": "001936ae-c292-4d7e-b106-0dbdd7f61cce",
   "metadata": {},
   "outputs": [],
   "source": []
  },
  {
   "cell_type": "markdown",
   "id": "f292b3dd-ab29-4d55-98cf-0657860b2ba4",
   "metadata": {
    "tags": []
   },
   "source": [
    " Q3. What is an iterator in python? Name the method used to initialise the iterator object and the method\n",
    "    used for iteration. Use these methods to print the first five elements of the given list [2, 4, 6, 8, 10, 12, 14,\n",
    "     16, 18, 20]."
   ]
  },
  {
   "cell_type": "markdown",
   "id": "855fdbb9-22c6-4509-9999-12c52de5cf08",
   "metadata": {},
   "source": [
    "Ans 3. In python iterator is an object which allow to loop over data one at a time. "
   ]
  },
  {
   "cell_type": "markdown",
   "id": "b0b3b1ab-6a7e-46de-8973-1fd8865ce6a1",
   "metadata": {},
   "source": [
    "iter() method is used to initialise the iterator object and next() method is used for iteration."
   ]
  },
  {
   "cell_type": "code",
   "execution_count": 13,
   "id": "2c25982b-5cb0-4053-82de-1f9d73b676d2",
   "metadata": {},
   "outputs": [],
   "source": [
    "l = [2, 4, 6, 8, 10, 12, 14, 16, 18, 20]"
   ]
  },
  {
   "cell_type": "code",
   "execution_count": 14,
   "id": "adcf732b-e3e6-4724-bc47-f8de41678a02",
   "metadata": {},
   "outputs": [],
   "source": [
    "l_i = iter(l)"
   ]
  },
  {
   "cell_type": "code",
   "execution_count": 15,
   "id": "a65662fa-798a-4c2a-866b-0a75a2bb175e",
   "metadata": {},
   "outputs": [
    {
     "data": {
      "text/plain": [
       "2"
      ]
     },
     "execution_count": 15,
     "metadata": {},
     "output_type": "execute_result"
    }
   ],
   "source": [
    "next(l_i)"
   ]
  },
  {
   "cell_type": "code",
   "execution_count": 16,
   "id": "c33c9c70-0bd1-4750-aa80-b7b61207855f",
   "metadata": {},
   "outputs": [
    {
     "data": {
      "text/plain": [
       "4"
      ]
     },
     "execution_count": 16,
     "metadata": {},
     "output_type": "execute_result"
    }
   ],
   "source": [
    "next(l_i)"
   ]
  },
  {
   "cell_type": "code",
   "execution_count": 17,
   "id": "a91932fd-1a40-4347-9074-882ae047c58f",
   "metadata": {},
   "outputs": [
    {
     "data": {
      "text/plain": [
       "6"
      ]
     },
     "execution_count": 17,
     "metadata": {},
     "output_type": "execute_result"
    }
   ],
   "source": [
    "next(l_i)"
   ]
  },
  {
   "cell_type": "code",
   "execution_count": 18,
   "id": "974dc6a1-4f06-4d7e-8a41-445d94600707",
   "metadata": {},
   "outputs": [
    {
     "data": {
      "text/plain": [
       "8"
      ]
     },
     "execution_count": 18,
     "metadata": {},
     "output_type": "execute_result"
    }
   ],
   "source": [
    "next(l_i)"
   ]
  },
  {
   "cell_type": "code",
   "execution_count": 19,
   "id": "77d00261-2e77-46d9-be71-9fd620ffac44",
   "metadata": {},
   "outputs": [
    {
     "data": {
      "text/plain": [
       "10"
      ]
     },
     "execution_count": 19,
     "metadata": {},
     "output_type": "execute_result"
    }
   ],
   "source": [
    "next(l_i)"
   ]
  },
  {
   "cell_type": "raw",
   "id": "ae6a8775-1c6c-490c-8dff-dc4fd10ff526",
   "metadata": {},
   "source": []
  },
  {
   "cell_type": "markdown",
   "id": "69373b27-d796-4937-83ae-0900d2530b4c",
   "metadata": {},
   "source": [
    "Q4. What is a generator function in python? Why yield keyword is used? Give an example of a generator\n",
    "function."
   ]
  },
  {
   "cell_type": "markdown",
   "id": "32ac584a-a1f6-4954-8aa2-913d998b3dc0",
   "metadata": {},
   "source": [
    "A generator function in Python is a special type of function that allows you to create iterators.\n"
   ]
  },
  {
   "cell_type": "markdown",
   "id": "b8abf591-31c3-46ea-baf7-4bdb83b927c9",
   "metadata": {},
   "source": [
    "Yield keyword is used in place of return in generator function"
   ]
  },
  {
   "cell_type": "code",
   "execution_count": 1,
   "id": "b888b341-b809-45bd-a005-08c3c3fa0572",
   "metadata": {},
   "outputs": [],
   "source": [
    "# Example of generator function \n",
    "def gen_fun():\n",
    "    a = 0\n",
    "    while True:\n",
    "        yield a\n",
    "        a = a+1\n"
   ]
  },
  {
   "cell_type": "code",
   "execution_count": 3,
   "id": "c24123f7-ea41-402f-a878-3214cf995fe7",
   "metadata": {},
   "outputs": [
    {
     "data": {
      "text/plain": [
       "<generator object gen_fun at 0x7f8dd9192180>"
      ]
     },
     "execution_count": 3,
     "metadata": {},
     "output_type": "execute_result"
    }
   ],
   "source": [
    "gen_fun()"
   ]
  },
  {
   "cell_type": "code",
   "execution_count": 6,
   "id": "190d6659-413b-4603-8e92-4fd1e7b8b980",
   "metadata": {},
   "outputs": [
    {
     "name": "stdout",
     "output_type": "stream",
     "text": [
      "0\n",
      "1\n",
      "2\n",
      "3\n",
      "4\n"
     ]
    }
   ],
   "source": [
    "g = gen_fun()\n",
    "\n",
    "for i in range(5):\n",
    "    print(next(g))"
   ]
  },
  {
   "cell_type": "code",
   "execution_count": null,
   "id": "cbba5be3-31b5-4618-b4d6-16ae60a1eb28",
   "metadata": {},
   "outputs": [],
   "source": []
  },
  {
   "cell_type": "markdown",
   "id": "ba141068-0307-4d82-a1fe-425e933a812a",
   "metadata": {},
   "source": [
    "Q5. Create a generator function for prime numbers less than 1000. Use the next() method to print the\n",
    "first 20 prime numbers."
   ]
  },
  {
   "cell_type": "code",
   "execution_count": 7,
   "id": "8ad237af-556b-47bd-a6cd-1993837b215e",
   "metadata": {},
   "outputs": [],
   "source": [
    "def is_prime(num):\n",
    "    if num <= 1:\n",
    "        return False\n",
    "    if num <= 3:\n",
    "        return True\n",
    "    if num % 2 == 0 or num % 3 == 0:\n",
    "        return False\n",
    "    i = 5\n",
    "    while i * i <= num:\n",
    "        if num % i == 0 or num % (i + 2) == 0:\n",
    "            return False\n",
    "        i += 6\n",
    "    return True\n"
   ]
  },
  {
   "cell_type": "code",
   "execution_count": 8,
   "id": "2c91400c-de6b-4907-881b-acbc71789a66",
   "metadata": {},
   "outputs": [],
   "source": [
    "def prime_generator(limit):\n",
    "    num = 2\n",
    "    while num < limit:\n",
    "        if is_prime(num):\n",
    "            yield num\n",
    "        num += 1"
   ]
  },
  {
   "cell_type": "code",
   "execution_count": 16,
   "id": "e7e55a7a-08ab-4537-ad7c-1e35e421437e",
   "metadata": {},
   "outputs": [],
   "source": [
    "prime_gen = prime_generator(1000)"
   ]
  },
  {
   "cell_type": "code",
   "execution_count": 17,
   "id": "0be7b8d0-0b11-4c1f-9ca0-b3f7d826f9b9",
   "metadata": {},
   "outputs": [
    {
     "name": "stdout",
     "output_type": "stream",
     "text": [
      "2\n",
      "3\n",
      "5\n",
      "7\n",
      "11\n",
      "13\n",
      "17\n",
      "19\n",
      "23\n",
      "29\n",
      "31\n",
      "37\n",
      "41\n",
      "43\n",
      "47\n",
      "53\n",
      "59\n",
      "61\n",
      "67\n",
      "71\n"
     ]
    }
   ],
   "source": [
    "for _ in range(20):\n",
    "    prime = next(prime_gen)\n",
    "    print(prime)"
   ]
  },
  {
   "cell_type": "code",
   "execution_count": null,
   "id": "07de73df-8e97-4e3e-897b-1b26db69df9c",
   "metadata": {},
   "outputs": [],
   "source": []
  },
  {
   "cell_type": "markdown",
   "id": "da6f8f39-e10a-4cd8-adf2-c70a85076aeb",
   "metadata": {},
   "source": [
    "Q6. Write a python program to print the first 10 Fibonacci numbers using a while loop."
   ]
  },
  {
   "cell_type": "code",
   "execution_count": null,
   "id": "2899f2a5-efb0-4ba6-939b-8caa61f17c4f",
   "metadata": {},
   "outputs": [],
   "source": [
    "def fibonacci(n):\n",
    "    a = 0\n",
    "    b = 1\n",
    "    i = 0\n",
    "    while i<n:\n",
    "        yield a\n",
    "        i = i+1\n",
    "        a,b = b, a+b"
   ]
  },
  {
   "cell_type": "code",
   "execution_count": 19,
   "id": "0ef6c9e1-be2a-46ee-bcab-d9398b42934c",
   "metadata": {},
   "outputs": [
    {
     "name": "stdout",
     "output_type": "stream",
     "text": [
      "0\n",
      "1\n",
      "1\n",
      "2\n",
      "3\n",
      "5\n",
      "8\n",
      "13\n",
      "21\n",
      "34\n"
     ]
    }
   ],
   "source": [
    "for i  in fibonacci(10):\n",
    "    print(i)"
   ]
  },
  {
   "cell_type": "code",
   "execution_count": null,
   "id": "e4436f1d-c820-4d60-8a13-16306a31e2aa",
   "metadata": {},
   "outputs": [],
   "source": []
  },
  {
   "cell_type": "markdown",
   "id": "71a09977-7aa8-4fb5-8f53-b74635e8315d",
   "metadata": {},
   "source": [
    "Q7. Write a List Comprehension to iterate through the given string: ‘pwskills’.\n",
    "Expected output: ['p', 'w', 's', 'k', 'i', 'l', 'l', 's']"
   ]
  },
  {
   "cell_type": "code",
   "execution_count": 20,
   "id": "8686944f-b11a-41e6-8094-567dc9ffb629",
   "metadata": {},
   "outputs": [],
   "source": [
    "l = [_ for _ in iter(\"pwskills\")]"
   ]
  },
  {
   "cell_type": "code",
   "execution_count": 21,
   "id": "ff69afdb-04f6-4782-9339-95d8e37490ad",
   "metadata": {},
   "outputs": [
    {
     "data": {
      "text/plain": [
       "['p', 'w', 's', 'k', 'i', 'l', 'l', 's']"
      ]
     },
     "execution_count": 21,
     "metadata": {},
     "output_type": "execute_result"
    }
   ],
   "source": [
    "l"
   ]
  },
  {
   "cell_type": "code",
   "execution_count": null,
   "id": "8ce565cc-b81d-45e6-917a-e784050e63e7",
   "metadata": {},
   "outputs": [],
   "source": []
  },
  {
   "cell_type": "markdown",
   "id": "c3a992a3-ca4f-4188-9c5d-3eab9d07fe51",
   "metadata": {},
   "source": [
    "Q8. Write a python program to check whether a given number is Palindrome or not using a while loop."
   ]
  },
  {
   "cell_type": "code",
   "execution_count": 24,
   "id": "b89d4c99-a2e2-48b7-99f1-e58ecfa61b47",
   "metadata": {},
   "outputs": [],
   "source": [
    "def pd(n):\n",
    "    l = [_ for _ in iter(str(n))]\n",
    "    i = 0 \n",
    "    while i < len(l)/2:\n",
    "        if l[i] != l[len(l)-i-1]:\n",
    "            return False\n",
    "        i += 1\n",
    "    return True  "
   ]
  },
  {
   "cell_type": "code",
   "execution_count": 26,
   "id": "752cc723-838f-4f33-ba9f-3bd9a8492e0d",
   "metadata": {},
   "outputs": [
    {
     "data": {
      "text/plain": [
       "False"
      ]
     },
     "execution_count": 26,
     "metadata": {},
     "output_type": "execute_result"
    }
   ],
   "source": [
    "pd(1011)"
   ]
  },
  {
   "cell_type": "code",
   "execution_count": 27,
   "id": "3abf487c-aff1-4e11-a838-3e33b2ea0585",
   "metadata": {},
   "outputs": [
    {
     "data": {
      "text/plain": [
       "True"
      ]
     },
     "execution_count": 27,
     "metadata": {},
     "output_type": "execute_result"
    }
   ],
   "source": [
    "pd(1001)"
   ]
  },
  {
   "cell_type": "code",
   "execution_count": 28,
   "id": "1d7c1978-e0d1-4855-8d59-e7221bf4834d",
   "metadata": {},
   "outputs": [
    {
     "data": {
      "text/plain": [
       "True"
      ]
     },
     "execution_count": 28,
     "metadata": {},
     "output_type": "execute_result"
    }
   ],
   "source": [
    "pd(1234321)"
   ]
  },
  {
   "cell_type": "code",
   "execution_count": null,
   "id": "228052ea-7150-44b7-942c-30575d011e73",
   "metadata": {},
   "outputs": [],
   "source": []
  },
  {
   "cell_type": "markdown",
   "id": "03a6a7a4-08d2-4e46-ae5b-8a55c81ed405",
   "metadata": {},
   "source": [
    "Write a code to print odd numbers from 1 to 100 using list comprehension."
   ]
  },
  {
   "cell_type": "code",
   "execution_count": 31,
   "id": "f9a353f6-3668-4e96-988e-7c8510b1adaf",
   "metadata": {},
   "outputs": [
    {
     "name": "stdout",
     "output_type": "stream",
     "text": [
      "[1, 2, 3, 4, 5, 6, 7, 8, 9, 10, 11, 12, 13, 14, 15, 16, 17, 18, 19, 20, 21, 22, 23, 24, 25, 26, 27, 28, 29, 30, 31, 32, 33, 34, 35, 36, 37, 38, 39, 40, 41, 42, 43, 44, 45, 46, 47, 48, 49, 50, 51, 52, 53, 54, 55, 56, 57, 58, 59, 60, 61, 62, 63, 64, 65, 66, 67, 68, 69, 70, 71, 72, 73, 74, 75, 76, 77, 78, 79, 80, 81, 82, 83, 84, 85, 86, 87, 88, 89, 90, 91, 92, 93, 94, 95, 96, 97, 98, 99, 100]\n"
     ]
    }
   ],
   "source": [
    "l = [_ for _ in range(1,101)]\n",
    "print(l)"
   ]
  },
  {
   "cell_type": "code",
   "execution_count": 34,
   "id": "34620b4a-38d1-4dad-86be-499d7554a48e",
   "metadata": {},
   "outputs": [],
   "source": [
    "l_odd = list(filter(lambda x : x%2 !=0, l))"
   ]
  },
  {
   "cell_type": "code",
   "execution_count": 36,
   "id": "a33b72a9-1a0e-47c1-8603-64726e24692f",
   "metadata": {},
   "outputs": [
    {
     "name": "stdout",
     "output_type": "stream",
     "text": [
      "[1, 3, 5, 7, 9, 11, 13, 15, 17, 19, 21, 23, 25, 27, 29, 31, 33, 35, 37, 39, 41, 43, 45, 47, 49, 51, 53, 55, 57, 59, 61, 63, 65, 67, 69, 71, 73, 75, 77, 79, 81, 83, 85, 87, 89, 91, 93, 95, 97, 99]\n"
     ]
    }
   ],
   "source": [
    "print(l_odd)"
   ]
  },
  {
   "cell_type": "code",
   "execution_count": null,
   "id": "d5c983a6-502b-40e9-8248-3c95f3bced91",
   "metadata": {},
   "outputs": [],
   "source": []
  }
 ],
 "metadata": {
  "kernelspec": {
   "display_name": "Python 3 (ipykernel)",
   "language": "python",
   "name": "python3"
  },
  "language_info": {
   "codemirror_mode": {
    "name": "ipython",
    "version": 3
   },
   "file_extension": ".py",
   "mimetype": "text/x-python",
   "name": "python",
   "nbconvert_exporter": "python",
   "pygments_lexer": "ipython3",
   "version": "3.10.8"
  }
 },
 "nbformat": 4,
 "nbformat_minor": 5
}
