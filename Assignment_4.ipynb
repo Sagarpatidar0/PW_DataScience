{
 "cells": [
  {
   "cell_type": "markdown",
   "id": "3717a8f5-4586-4f54-8d9a-223bdef4ef64",
   "metadata": {},
   "source": [
    "Q1. Create a python program to sort the given list of tuples based on integer value using a\n",
    "lambda function.\n",
    "[('Sachin Tendulkar', 34357), ('Ricky Ponting', 27483), ('Jack Kallis', 25534), ('Virat Kohli', 24936)]"
   ]
  },
  {
   "cell_type": "code",
   "execution_count": 27,
   "id": "c55e729d-ea3f-4a1f-a6e8-d69c7e36296b",
   "metadata": {},
   "outputs": [
    {
     "name": "stdout",
     "output_type": "stream",
     "text": [
      "('Virat Kohli', 24936)\n",
      "('Jack Kallis', 25534)\n",
      "('Ricky Ponting', 27483)\n",
      "('Sachin Tendulkar', 34357)\n"
     ]
    }
   ],
   "source": [
    "l = [\n",
    "    ('Sachin Tendulkar', 34357),\n",
    "    ('Ricky Ponting', 27483),\n",
    "    ('Jack Kallis', 25534),\n",
    "    ('Virat Kohli', 24936)\n",
    "]\n",
    "\n",
    "sorted_l = sorted(l, key=lambda x: x[1])\n",
    "\n",
    "for item in sorted_l:\n",
    "    print(item)"
   ]
  },
  {
   "cell_type": "code",
   "execution_count": null,
   "id": "91eddf18-9095-4f81-92e0-6fafcec14cf5",
   "metadata": {},
   "outputs": [],
   "source": []
  },
  {
   "cell_type": "markdown",
   "id": "162951c3-50f3-40cc-b7cc-9c01c926b2ed",
   "metadata": {},
   "source": [
    "Q2. Write a Python Program to find the squares of all the numbers in the given list of integers using\n",
    "lambda and map functions.\n",
    "[1, 2, 3, 4, 5, 6, 7, 8, 9, 10]"
   ]
  },
  {
   "cell_type": "code",
   "execution_count": 1,
   "id": "a659adeb-4de1-4c7a-a70c-2010303cadf0",
   "metadata": {},
   "outputs": [
    {
     "data": {
      "text/plain": [
       "[1, 2, 3, 4, 5, 6, 7, 8, 9, 10]"
      ]
     },
     "execution_count": 1,
     "metadata": {},
     "output_type": "execute_result"
    }
   ],
   "source": [
    "l = [_ for _ in range(1,11)]\n",
    "l"
   ]
  },
  {
   "cell_type": "code",
   "execution_count": 2,
   "id": "ec5b1928-aef9-4677-bc39-920c0883eb6a",
   "metadata": {},
   "outputs": [
    {
     "data": {
      "text/plain": [
       "[1, 4, 9, 16, 25, 36, 49, 64, 81, 100]"
      ]
     },
     "execution_count": 2,
     "metadata": {},
     "output_type": "execute_result"
    }
   ],
   "source": [
    "l_sq = list(map(lambda x:x**2, l))\n",
    "l_sq"
   ]
  },
  {
   "cell_type": "code",
   "execution_count": null,
   "id": "13dda9cc-9e8d-4b6d-9212-784b4b3e791d",
   "metadata": {},
   "outputs": [],
   "source": []
  },
  {
   "cell_type": "markdown",
   "id": "199e8d52-b745-465b-ad38-a911615f2e62",
   "metadata": {},
   "source": [
    "Q3. Write a python program to convert the given list of integers into a tuple of strings. Use map and\n",
    "lambda functions\n",
    "Given String: [1, 2, 3, 4, 5, 6, 7, 8, 9, 10]\n",
    "Expected output: ('1', '2', '3', '4', '5', '6', '7', '8', '9', '10')"
   ]
  },
  {
   "cell_type": "code",
   "execution_count": 4,
   "id": "67981ac4-723e-4ee4-acc4-d511e85c9d97",
   "metadata": {},
   "outputs": [
    {
     "data": {
      "text/plain": [
       "[1, 2, 3, 4, 5, 6, 7, 8, 9, 10]"
      ]
     },
     "execution_count": 4,
     "metadata": {},
     "output_type": "execute_result"
    }
   ],
   "source": [
    "l"
   ]
  },
  {
   "cell_type": "code",
   "execution_count": 6,
   "id": "ed18149f-0cc4-4924-a994-e94083c0fc89",
   "metadata": {},
   "outputs": [
    {
     "data": {
      "text/plain": [
       "('1', '2', '3', '4', '5', '6', '7', '8', '9', '10')"
      ]
     },
     "execution_count": 6,
     "metadata": {},
     "output_type": "execute_result"
    }
   ],
   "source": [
    "l_str = tuple(map(lambda x : str(x), l))\n",
    "l_str"
   ]
  },
  {
   "cell_type": "code",
   "execution_count": null,
   "id": "8ae49e74-e4cd-44f2-b264-576de5f54683",
   "metadata": {},
   "outputs": [],
   "source": []
  },
  {
   "cell_type": "markdown",
   "id": "1faef693-7052-4788-b827-7d369b405651",
   "metadata": {},
   "source": [
    "Q4. Write a python program using reduce function to compute the product of a list containing numbers\n",
    "from 1 to 25."
   ]
  },
  {
   "cell_type": "code",
   "execution_count": 12,
   "id": "e30be063-106b-4858-b66b-125f6ab4891c",
   "metadata": {},
   "outputs": [],
   "source": [
    "from functools import reduce"
   ]
  },
  {
   "cell_type": "code",
   "execution_count": 10,
   "id": "e7cc5124-9764-497e-b0c1-9612fc131ec2",
   "metadata": {},
   "outputs": [
    {
     "name": "stdout",
     "output_type": "stream",
     "text": [
      "[1, 2, 3, 4, 5, 6, 7, 8, 9, 10, 11, 12, 13, 14, 15, 16, 17, 18, 19, 20, 21, 22, 23, 24, 25]\n"
     ]
    }
   ],
   "source": [
    "l = [_ for _ in range(1,26)]\n",
    "print(l)"
   ]
  },
  {
   "cell_type": "code",
   "execution_count": 14,
   "id": "b62a4b06-8555-413e-9cab-51bc4b7fce60",
   "metadata": {},
   "outputs": [
    {
     "data": {
      "text/plain": [
       "15511210043330985984000000"
      ]
     },
     "execution_count": 14,
     "metadata": {},
     "output_type": "execute_result"
    }
   ],
   "source": [
    "reduce(lambda x ,y : x*y , l)"
   ]
  },
  {
   "cell_type": "code",
   "execution_count": null,
   "id": "7c6e5abc-e182-4d4f-864f-0c780ff86c01",
   "metadata": {},
   "outputs": [],
   "source": []
  },
  {
   "cell_type": "markdown",
   "id": "e46e2578-87ef-43c2-95b9-9593cbc0e42c",
   "metadata": {},
   "source": [
    "Q5. Write a python program to filter the numbers in a given list that are divisible by 2 and 3 using the\n",
    "filter function.\n",
    "[2, 3, 6, 9, 27, 60, 90, 120, 55, 46]"
   ]
  },
  {
   "cell_type": "code",
   "execution_count": 18,
   "id": "7b7f4ceb-3e0f-4d83-9d12-d9d6f42ee048",
   "metadata": {},
   "outputs": [
    {
     "data": {
      "text/plain": [
       "[6, 60, 90, 120]"
      ]
     },
     "execution_count": 18,
     "metadata": {},
     "output_type": "execute_result"
    }
   ],
   "source": [
    "l = [2, 3, 6, 9, 27, 60, 90, 120, 55, 46]\n",
    "list(filter(lambda x:x%2==0 and x%3==0, l))"
   ]
  },
  {
   "cell_type": "code",
   "execution_count": null,
   "id": "de85b059-4cf4-4e13-948b-3bb0c35799a3",
   "metadata": {},
   "outputs": [],
   "source": []
  },
  {
   "cell_type": "markdown",
   "id": "b794fd95-b3a2-4787-88fb-c58b47f07b24",
   "metadata": {},
   "source": [
    "Q6. Write a python program to find palindromes in the given list of strings using lambda and filter\n",
    "function.\n",
    "['python', 'php', 'aba', 'radar', 'level']"
   ]
  },
  {
   "cell_type": "code",
   "execution_count": 19,
   "id": "6b8bd034-86bc-4753-85be-5e80f8432ac4",
   "metadata": {},
   "outputs": [],
   "source": [
    "l = ['python', 'php', 'aba', 'radar', 'level']"
   ]
  },
  {
   "cell_type": "code",
   "execution_count": 22,
   "id": "b1c2f8fc-5094-49f9-8eb4-46cef1ea30bb",
   "metadata": {},
   "outputs": [
    {
     "data": {
      "text/plain": [
       "['php', 'aba', 'radar', 'level']"
      ]
     },
     "execution_count": 22,
     "metadata": {},
     "output_type": "execute_result"
    }
   ],
   "source": [
    "list(filter((lambda x: x == x[::-1]), l))"
   ]
  },
  {
   "cell_type": "code",
   "execution_count": 23,
   "id": "e2b3a76d-f496-49f8-b368-3d38eb1084b0",
   "metadata": {},
   "outputs": [],
   "source": [
    "a = (lambda x: x == x[::-1])"
   ]
  },
  {
   "cell_type": "code",
   "execution_count": null,
   "id": "f87511c6-a94d-4464-a4bf-9aba5fc89c42",
   "metadata": {},
   "outputs": [],
   "source": []
  },
  {
   "cell_type": "code",
   "execution_count": null,
   "id": "da285d20-8817-411b-9865-6dc974b4bacf",
   "metadata": {},
   "outputs": [],
   "source": []
  }
 ],
 "metadata": {
  "kernelspec": {
   "display_name": "Python 3 (ipykernel)",
   "language": "python",
   "name": "python3"
  },
  "language_info": {
   "codemirror_mode": {
    "name": "ipython",
    "version": 3
   },
   "file_extension": ".py",
   "mimetype": "text/x-python",
   "name": "python",
   "nbconvert_exporter": "python",
   "pygments_lexer": "ipython3",
   "version": "3.10.8"
  }
 },
 "nbformat": 4,
 "nbformat_minor": 5
}
