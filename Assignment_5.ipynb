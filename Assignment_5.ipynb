{
 "cells": [
  {
   "cell_type": "markdown",
   "id": "39796ce1-79d3-4082-a7d3-9b0bd5c53c7c",
   "metadata": {},
   "source": [
    "Q1, Create a vehicle class with an init method having instance variables as name_of_vehicle, max_speed\n",
    "and average_of_vehicle."
   ]
  },
  {
   "cell_type": "code",
   "execution_count": 1,
   "id": "92ca9f44-fb75-4e73-8dc3-7cf2a82cf655",
   "metadata": {},
   "outputs": [],
   "source": [
    "class vehicle:\n",
    "    \n",
    "    def __init__(self, name_of_vehicle, max_speed, average_of_vechicle):\n",
    "        self.name_of_vehicle = name_of_vehicle\n",
    "        self.max_speed = max_speed\n",
    "        self.average_of_vechicle = average_of_vechicle"
   ]
  },
  {
   "cell_type": "code",
   "execution_count": 2,
   "id": "b695f611-c045-4b8a-8549-20dff4737253",
   "metadata": {},
   "outputs": [],
   "source": [
    "v1 = vehicle(\"h2\", 403, 13)"
   ]
  },
  {
   "cell_type": "code",
   "execution_count": null,
   "id": "26821cd5-4da7-4529-8639-1267d007ee18",
   "metadata": {},
   "outputs": [],
   "source": []
  },
  {
   "cell_type": "markdown",
   "id": "cbd9967a-526f-4d0a-9e47-7b4c10f282d3",
   "metadata": {},
   "source": [
    "Q2. Create a child class car from the vehicle class created in Que 1, which will inherit the vehicle class.\n",
    "Create a method named seating_capacity which takes capacity as an argument and returns the name of\n",
    "the vehicle and its seating capacity."
   ]
  },
  {
   "cell_type": "code",
   "execution_count": 3,
   "id": "327abd2d-a181-4b2a-bdd8-8f983a7dd2cd",
   "metadata": {},
   "outputs": [],
   "source": [
    "class car(vehicle):\n",
    "    \n",
    "    def seating_capacity(self,seat):\n",
    "        self.seating_cap = seat\n",
    "        return self.name_of_vehicle , self.seating_cap"
   ]
  },
  {
   "cell_type": "code",
   "execution_count": 5,
   "id": "62ec38df-48b0-481a-a796-d3e635735dd0",
   "metadata": {},
   "outputs": [],
   "source": [
    "xuv = car(\"XUV700\", 180, 17)"
   ]
  },
  {
   "cell_type": "code",
   "execution_count": 6,
   "id": "a858cba0-fc3d-4839-bf3f-f6b6f49f64bd",
   "metadata": {},
   "outputs": [
    {
     "data": {
      "text/plain": [
       "('XUV700', 8)"
      ]
     },
     "execution_count": 6,
     "metadata": {},
     "output_type": "execute_result"
    }
   ],
   "source": [
    "xuv.seating_capacity(8)"
   ]
  },
  {
   "cell_type": "code",
   "execution_count": null,
   "id": "ef32c236-2775-4351-95de-5e58ac582038",
   "metadata": {},
   "outputs": [],
   "source": []
  },
  {
   "cell_type": "markdown",
   "id": "77bd6ef0-4da4-45fb-a703-57dbedf8ad26",
   "metadata": {},
   "source": [
    "Q3. What is multiple inheritance? Write a python code to demonstrate multiple inheritance."
   ]
  },
  {
   "cell_type": "markdown",
   "id": "90493f0c-a960-41c6-b8d1-897bea5bf61f",
   "metadata": {},
   "source": [
    "In multiple inheritance more then one classes are inherite in one class"
   ]
  },
  {
   "cell_type": "code",
   "execution_count": 8,
   "id": "624aa270-1f83-457f-964b-6032a448fe71",
   "metadata": {},
   "outputs": [],
   "source": [
    "class papa():\n",
    "    \n",
    "    def dad(self):\n",
    "        return \"Papa\""
   ]
  },
  {
   "cell_type": "code",
   "execution_count": 9,
   "id": "c9dc18ee-b8b3-4bb5-b4b8-e99757a2e0da",
   "metadata": {},
   "outputs": [],
   "source": [
    "class maa():\n",
    "    \n",
    "    def mom(self):\n",
    "        return \"Maa\"\n",
    "        "
   ]
  },
  {
   "cell_type": "code",
   "execution_count": 10,
   "id": "253fd362-5eed-465d-9c1e-7194fd38449a",
   "metadata": {},
   "outputs": [],
   "source": [
    "class child(papa, maa):\n",
    "    \n",
    "    def child_method(self):\n",
    "        return \"Child\""
   ]
  },
  {
   "cell_type": "code",
   "execution_count": 11,
   "id": "ce6b7b83-e85f-4d05-abaa-0016840e8690",
   "metadata": {},
   "outputs": [],
   "source": [
    "tom = child()"
   ]
  },
  {
   "cell_type": "code",
   "execution_count": 12,
   "id": "a0a64d20-d3b7-4591-9046-e697b41ccda2",
   "metadata": {},
   "outputs": [
    {
     "data": {
      "text/plain": [
       "'Papa'"
      ]
     },
     "execution_count": 12,
     "metadata": {},
     "output_type": "execute_result"
    }
   ],
   "source": [
    "tom.dad()"
   ]
  },
  {
   "cell_type": "code",
   "execution_count": 13,
   "id": "386bcb65-e8c2-40cf-b657-8eed0ba10179",
   "metadata": {},
   "outputs": [
    {
     "data": {
      "text/plain": [
       "'Maa'"
      ]
     },
     "execution_count": 13,
     "metadata": {},
     "output_type": "execute_result"
    }
   ],
   "source": [
    "tom.mom()"
   ]
  },
  {
   "cell_type": "code",
   "execution_count": null,
   "id": "fabaa200-23a2-4062-9ca4-593bfcea5abb",
   "metadata": {},
   "outputs": [],
   "source": []
  },
  {
   "cell_type": "markdown",
   "id": "238be4ec-7b5e-4ca7-af9d-f04363a53e1e",
   "metadata": {},
   "source": [
    "Q4. What are getter and setter in python? Create a class and create a getter and a setter method in this\n",
    "class."
   ]
  },
  {
   "cell_type": "markdown",
   "id": "81331cee-96a9-47a6-b8b9-5c4e48141b94",
   "metadata": {},
   "source": [
    "Getter:- A function by which we can get variables of object. \n",
    "\n",
    "Setter:- Function by which we can set values of variable of object"
   ]
  },
  {
   "cell_type": "code",
   "execution_count": 20,
   "id": "365e0cc5-cec4-4f79-b958-f0b19aa459b5",
   "metadata": {},
   "outputs": [],
   "source": [
    "class student:\n",
    "    \n",
    "    def get_name(self):\n",
    "        return self.name\n",
    "    \n",
    "    def set_name(self, name):\n",
    "        self.name = name\n",
    "    "
   ]
  },
  {
   "cell_type": "code",
   "execution_count": 21,
   "id": "1d436132-a0b6-4ddb-958d-e1c90279bc20",
   "metadata": {},
   "outputs": [],
   "source": [
    "s = student()"
   ]
  },
  {
   "cell_type": "code",
   "execution_count": 22,
   "id": "02ecb02f-d43c-4f10-9ad8-a969611d5926",
   "metadata": {},
   "outputs": [],
   "source": [
    "s.set_name(\"Sagar\")"
   ]
  },
  {
   "cell_type": "code",
   "execution_count": 23,
   "id": "c75f04f9-1dab-4f81-9c2f-2cfe9b4e4f92",
   "metadata": {},
   "outputs": [
    {
     "data": {
      "text/plain": [
       "'Sagar'"
      ]
     },
     "execution_count": 23,
     "metadata": {},
     "output_type": "execute_result"
    }
   ],
   "source": [
    "s.get_name()"
   ]
  },
  {
   "cell_type": "code",
   "execution_count": null,
   "id": "6ed566e1-be5e-4e7a-a66e-c160cb1b5144",
   "metadata": {},
   "outputs": [],
   "source": []
  },
  {
   "cell_type": "markdown",
   "id": "c9b8e7cf-6e1f-4ad8-b643-1a9e8269390b",
   "metadata": {},
   "source": [
    "Q5.What is method overriding in python? Write a python code to demonstrate method overriding."
   ]
  },
  {
   "cell_type": "markdown",
   "id": "57e015d1-6ed0-4896-a6d6-30f734f3aae0",
   "metadata": {},
   "source": [
    "In method overriding one function is present in more them one class "
   ]
  },
  {
   "cell_type": "code",
   "execution_count": 14,
   "id": "c3898a1d-6e25-4511-a5f6-ce883ca43d5d",
   "metadata": {},
   "outputs": [],
   "source": [
    "class dog:\n",
    "    def speak(self):\n",
    "        return \"Woof\""
   ]
  },
  {
   "cell_type": "code",
   "execution_count": 15,
   "id": "45fe06d7-8837-4c2d-aaa9-6f47c36851fd",
   "metadata": {},
   "outputs": [],
   "source": [
    "class cat:\n",
    "    def speak(self):\n",
    "        return \"Meow\""
   ]
  },
  {
   "cell_type": "code",
   "execution_count": 16,
   "id": "761f85a8-f64b-44ad-bf36-965f97cd1a1b",
   "metadata": {},
   "outputs": [],
   "source": [
    "dog_obj = dog()\n",
    "cat_obj = cat()"
   ]
  },
  {
   "cell_type": "code",
   "execution_count": 17,
   "id": "231761a6-026b-4b8d-83de-e2beb5a24987",
   "metadata": {},
   "outputs": [
    {
     "data": {
      "text/plain": [
       "'Woof'"
      ]
     },
     "execution_count": 17,
     "metadata": {},
     "output_type": "execute_result"
    }
   ],
   "source": [
    "dog_obj.speak()"
   ]
  },
  {
   "cell_type": "code",
   "execution_count": 18,
   "id": "4eed06de-b9ee-4005-88cc-06e649e10774",
   "metadata": {},
   "outputs": [
    {
     "data": {
      "text/plain": [
       "'Meow'"
      ]
     },
     "execution_count": 18,
     "metadata": {},
     "output_type": "execute_result"
    }
   ],
   "source": [
    "cat_obj.speak()"
   ]
  },
  {
   "cell_type": "code",
   "execution_count": null,
   "id": "325c40b7-04f9-4d0d-8611-8e545cbdbe76",
   "metadata": {},
   "outputs": [],
   "source": []
  }
 ],
 "metadata": {
  "kernelspec": {
   "display_name": "Python 3 (ipykernel)",
   "language": "python",
   "name": "python3"
  },
  "language_info": {
   "codemirror_mode": {
    "name": "ipython",
    "version": 3
   },
   "file_extension": ".py",
   "mimetype": "text/x-python",
   "name": "python",
   "nbconvert_exporter": "python",
   "pygments_lexer": "ipython3",
   "version": "3.10.8"
  }
 },
 "nbformat": 4,
 "nbformat_minor": 5
}
