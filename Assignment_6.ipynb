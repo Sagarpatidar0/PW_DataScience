{
 "cells": [
  {
   "cell_type": "markdown",
   "id": "f96de1a6-a17a-4d54-a4a8-02a619452027",
   "metadata": {},
   "source": [
    "## Q1. Explain Class and Object with respect to Object-Oriented Programming. Give a suitable example."
   ]
  },
  {
   "cell_type": "code",
   "execution_count": 1,
   "id": "72fe1844-34c7-40fd-a3ab-5ab31c9eea07",
   "metadata": {},
   "outputs": [],
   "source": [
    "# Class:\n",
    "# A class is a blueprint or template for creating objects. It defines the attributes (data members) and methods (functions) \n",
    "# that objects of that class will have. \n",
    "# Object:\n",
    "# An object is an instance of a class. It is a concrete representation of the data and behavior defined in the class."
   ]
  },
  {
   "cell_type": "code",
   "execution_count": 2,
   "id": "986fd2f7-3ee3-4f53-99a6-ce287f8ad56f",
   "metadata": {},
   "outputs": [],
   "source": [
    "class Car:\n",
    "    def __init__(self, make, model, year):\n",
    "        self.make = make\n",
    "        self.model = model\n",
    "        self.year = year\n",
    "        self.is_running = False\n",
    "    \n",
    "    def start(self):\n",
    "        self.is_running = True\n",
    "        print(f\"{self.year} {self.make} {self.model} started.\")\n",
    "    \n",
    "    def stop(self):\n",
    "        self.is_running = False\n",
    "        print(f\"{self.year} {self.make} {self.model} stopped.\")\n",
    "    \n",
    "    def status(self):\n",
    "        if self.is_running:\n",
    "            print(f\"{self.year} {self.make} {self.model} is running.\")\n",
    "        else:\n",
    "            print(f\"{self.year} {self.make} {self.model} is stopped.\")\n"
   ]
  },
  {
   "cell_type": "code",
   "execution_count": 3,
   "id": "7ac2cea8-f66d-4594-9f32-3f1ad8b3fd8b",
   "metadata": {},
   "outputs": [
    {
     "name": "stdout",
     "output_type": "stream",
     "text": [
      "2023 Toyota Camry started.\n",
      "2022 Ford Mustang started.\n",
      "2023 Toyota Camry is running.\n",
      "2022 Ford Mustang is running.\n",
      "2023 Toyota Camry stopped.\n"
     ]
    }
   ],
   "source": [
    "car1 = Car(\"Toyota\", \"Camry\", 2023)\n",
    "car2 = Car(\"Ford\", \"Mustang\", 2022)\n",
    "\n",
    "car1.start()\n",
    "car2.start()\n",
    "car1.status()\n",
    "car2.status()\n",
    "car1.stop()"
   ]
  },
  {
   "cell_type": "markdown",
   "id": "cbb9ecbe-4887-4a7e-b202-07e96a229fdb",
   "metadata": {},
   "source": [
    "## Q2. Name the four pillars of OOPs."
   ]
  },
  {
   "cell_type": "code",
   "execution_count": 4,
   "id": "b62cfa38-959b-462a-9afe-5a7ddd7f93ce",
   "metadata": {},
   "outputs": [],
   "source": [
    "# The four pillars of Object-Oriented Programming (OOP) are:\n",
    "# 1.Encapsulation\n",
    "# 2.Abstraction\n",
    "# 3.Inheritance\n",
    "# 4.Polymorphism"
   ]
  },
  {
   "cell_type": "markdown",
   "id": "be20b764-6bc4-4f7f-ab93-940d2181d648",
   "metadata": {},
   "source": [
    "## Q3. Explain why the __init__() function is used. Give a suitable example."
   ]
  },
  {
   "cell_type": "code",
   "execution_count": 5,
   "id": "b8388836-0fb4-432c-81ee-8c164fb2f80d",
   "metadata": {},
   "outputs": [],
   "source": [
    "# The __init__() function, also known as the constructor, is used in object-oriented programming to initialize the attributes \n",
    "# of an object when it is created from a class. "
   ]
  },
  {
   "cell_type": "code",
   "execution_count": 6,
   "id": "0b3d333e-b170-4e31-bd87-cc128d225d68",
   "metadata": {},
   "outputs": [
    {
     "name": "stdout",
     "output_type": "stream",
     "text": [
      "Student 1:\n",
      "Name: Alice\n",
      "Age: 16\n",
      "Grade: 11\n",
      "\n",
      "Student 2:\n",
      "Name: Bob\n",
      "Age: 15\n",
      "Grade: 10\n"
     ]
    }
   ],
   "source": [
    "class Student:\n",
    "    def __init__(self, name, age, grade):\n",
    "        self.name = name\n",
    "        self.age = age\n",
    "        self.grade = grade\n",
    "    \n",
    "    def display_info(self):\n",
    "        print(f\"Name: {self.name}\")\n",
    "        print(f\"Age: {self.age}\")\n",
    "        print(f\"Grade: {self.grade}\")\n",
    "\n",
    "# Creating instances of the Student class\n",
    "student1 = Student(\"Alice\", 16, 11)\n",
    "student2 = Student(\"Bob\", 15, 10)\n",
    "\n",
    "# Displaying information about the students\n",
    "print(\"Student 1:\")\n",
    "student1.display_info()\n",
    "\n",
    "print(\"\\nStudent 2:\")\n",
    "student2.display_info()\n"
   ]
  },
  {
   "cell_type": "markdown",
   "id": "2d5d60f8-90db-47c6-860c-cbc5dfba1be8",
   "metadata": {},
   "source": [
    "## Q4. Why self is used in OOPs?"
   ]
  },
  {
   "cell_type": "code",
   "execution_count": 7,
   "id": "007ccc72-712f-4898-8a33-cb90423b5e15",
   "metadata": {},
   "outputs": [],
   "source": [
    "# In Object-Oriented Programming (OOP), self is a reference to the instance of the class that a method is acting on. "
   ]
  },
  {
   "cell_type": "markdown",
   "id": "851647c8-2751-4eb0-bcea-900fb9f4f155",
   "metadata": {},
   "source": [
    "## Q5. What is inheritance? Give an example for each type of inheritance."
   ]
  },
  {
   "cell_type": "code",
   "execution_count": 8,
   "id": "343d476a-89ff-4c79-8af1-b477382857d1",
   "metadata": {},
   "outputs": [],
   "source": [
    "# Inheritance is a fundamental concept in object-oriented programming (OOP) that allows a new class (subclass or derived class)\n",
    "# to inherit attributes and methods from an existing class (superclass or base class)."
   ]
  },
  {
   "cell_type": "code",
   "execution_count": 9,
   "id": "d3e14bcd-1b6e-4106-92e3-25a7b6d51e14",
   "metadata": {},
   "outputs": [],
   "source": [
    "# Single Inheritance\n",
    "class Animal:\n",
    "    def speak(self):\n",
    "        pass\n",
    "\n",
    "class Dog(Animal):\n",
    "    def speak(self):\n",
    "        return \"Woof!\"\n",
    "\n",
    "class Cat(Animal):\n",
    "    def speak(self):\n",
    "        return \"Meow!\"\n"
   ]
  },
  {
   "cell_type": "code",
   "execution_count": 11,
   "id": "de4f3e9c-78f7-48c9-8c4d-d2a26c5fdf7b",
   "metadata": {},
   "outputs": [
    {
     "name": "stdout",
     "output_type": "stream",
     "text": [
      "Programming\n"
     ]
    }
   ],
   "source": [
    "# Multiple Inheritance\n",
    "class Father:\n",
    "    def skill(self):\n",
    "        return \"Programming\"\n",
    "\n",
    "class Mother:\n",
    "    def skill(self):\n",
    "        return \"Music\"\n",
    "\n",
    "class Child(Father, Mother):\n",
    "    pass\n",
    "\n",
    "child = Child()\n",
    "print(child.skill())  # Output: \"Programming\" (inherits from Father)\n"
   ]
  },
  {
   "cell_type": "code",
   "execution_count": 12,
   "id": "570500ac-002f-4049-a839-4064025ef4de",
   "metadata": {},
   "outputs": [
    {
     "name": "stdout",
     "output_type": "stream",
     "text": [
      "House\n"
     ]
    }
   ],
   "source": [
    "# Multilevel Inheritance\n",
    "class Grandparent:\n",
    "    def property(self):\n",
    "        return \"Land\"\n",
    "\n",
    "class Parent(Grandparent):\n",
    "    def property(self):\n",
    "        return \"House\"\n",
    "\n",
    "class Child(Parent):\n",
    "    pass\n",
    "\n",
    "child = Child()\n",
    "print(child.property())  # Output: \"House\" (inherits from Parent)\n"
   ]
  },
  {
   "cell_type": "code",
   "execution_count": 14,
   "id": "37fd2c40-bb00-4b7f-a5c4-ebfad265ef1c",
   "metadata": {},
   "outputs": [],
   "source": [
    "# Hierarchical Inheritance\n",
    "class Vehicle:\n",
    "    def info(self):\n",
    "        pass\n",
    "\n",
    "class Car(Vehicle):\n",
    "    def info(self):\n",
    "        return \"This is a car.\"\n",
    "\n",
    "class Bike(Vehicle):\n",
    "    def info(self):\n",
    "        return \"This is a bike.\"\n"
   ]
  },
  {
   "cell_type": "code",
   "execution_count": null,
   "id": "a1ae17b1-8c48-4cb8-acfc-ef170713d937",
   "metadata": {},
   "outputs": [],
   "source": []
  }
 ],
 "metadata": {
  "kernelspec": {
   "display_name": "Python 3 (ipykernel)",
   "language": "python",
   "name": "python3"
  },
  "language_info": {
   "codemirror_mode": {
    "name": "ipython",
    "version": 3
   },
   "file_extension": ".py",
   "mimetype": "text/x-python",
   "name": "python",
   "nbconvert_exporter": "python",
   "pygments_lexer": "ipython3",
   "version": "3.10.8"
  }
 },
 "nbformat": 4,
 "nbformat_minor": 5
}
